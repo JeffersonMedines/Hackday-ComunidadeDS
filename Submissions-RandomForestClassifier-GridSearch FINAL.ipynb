{
 "cells": [
  {
   "cell_type": "markdown",
   "id": "45bec5ce",
   "metadata": {
    "heading_collapsed": true
   },
   "source": [
    "# Imports"
   ]
  },
  {
   "cell_type": "code",
   "execution_count": 1,
   "id": "e129fa20",
   "metadata": {
    "ExecuteTime": {
     "end_time": "2022-05-29T15:29:36.191305Z",
     "start_time": "2022-05-29T15:29:21.311857Z"
    },
    "hidden": true
   },
   "outputs": [],
   "source": [
    "import pandas as pd \n",
    "import numpy as np\n",
    "import seaborn as sns\n",
    "import matplotlib.pyplot as plt\n",
    "from sklearn.model_selection import StratifiedShuffleSplit\n",
    "from sklearn.ensemble import RandomForestClassifier\n",
    "from sklearn.model_selection import GridSearchCV\n",
    "from sklearn.model_selection import StratifiedKFold\n",
    "from sklearn.metrics import f1_score\n",
    "from sklearn.metrics import make_scorer\n",
    "from sklearn.preprocessing import LabelEncoder, OrdinalEncoder,StandardScaler, OneHotEncoder, LabelBinarizer\n",
    "from sklearn.pipeline import Pipeline\n",
    "from sklearn.compose import ColumnTransformer\n",
    "from sklearn.tree import DecisionTreeClassifier"
   ]
  },
  {
   "cell_type": "markdown",
   "id": "8eac2ec3",
   "metadata": {},
   "source": [
    "# Data load"
   ]
  },
  {
   "cell_type": "code",
   "execution_count": 2,
   "id": "575c41d1",
   "metadata": {
    "ExecuteTime": {
     "end_time": "2022-05-29T15:29:36.987004Z",
     "start_time": "2022-05-29T15:29:36.198900Z"
    },
    "scrolled": true
   },
   "outputs": [
    {
     "data": {
      "text/html": [
       "<div>\n",
       "<style scoped>\n",
       "    .dataframe tbody tr th:only-of-type {\n",
       "        vertical-align: middle;\n",
       "    }\n",
       "\n",
       "    .dataframe tbody tr th {\n",
       "        vertical-align: top;\n",
       "    }\n",
       "\n",
       "    .dataframe thead th {\n",
       "        text-align: right;\n",
       "    }\n",
       "</style>\n",
       "<table border=\"1\" class=\"dataframe\">\n",
       "  <thead>\n",
       "    <tr style=\"text-align: right;\">\n",
       "      <th></th>\n",
       "      <th>country</th>\n",
       "      <th>year</th>\n",
       "      <th>uniqueid</th>\n",
       "      <th>location_type</th>\n",
       "      <th>cellphone_access</th>\n",
       "      <th>household_size</th>\n",
       "      <th>age_of_respondent</th>\n",
       "      <th>gender_of_respondent</th>\n",
       "      <th>relationship_with_head</th>\n",
       "      <th>marital_status</th>\n",
       "      <th>education_level</th>\n",
       "      <th>job_type</th>\n",
       "      <th>uid</th>\n",
       "      <th>bank_account</th>\n",
       "    </tr>\n",
       "  </thead>\n",
       "  <tbody>\n",
       "    <tr>\n",
       "      <th>0</th>\n",
       "      <td>Rwanda</td>\n",
       "      <td>2016</td>\n",
       "      <td>uniqueid_4858</td>\n",
       "      <td>Rural</td>\n",
       "      <td>Yes</td>\n",
       "      <td>6</td>\n",
       "      <td>45</td>\n",
       "      <td>Male</td>\n",
       "      <td>Head of Household</td>\n",
       "      <td>Divorced/Seperated</td>\n",
       "      <td>Primary education</td>\n",
       "      <td>Farming and Fishing</td>\n",
       "      <td>Rwanda_uniqueid_4858</td>\n",
       "      <td>No</td>\n",
       "    </tr>\n",
       "    <tr>\n",
       "      <th>1</th>\n",
       "      <td>Tanzania</td>\n",
       "      <td>2017</td>\n",
       "      <td>uniqueid_3015</td>\n",
       "      <td>Urban</td>\n",
       "      <td>No</td>\n",
       "      <td>4</td>\n",
       "      <td>33</td>\n",
       "      <td>Female</td>\n",
       "      <td>Head of Household</td>\n",
       "      <td>Single/Never Married</td>\n",
       "      <td>Primary education</td>\n",
       "      <td>Self employed</td>\n",
       "      <td>Tanzania_uniqueid_3015</td>\n",
       "      <td>No</td>\n",
       "    </tr>\n",
       "    <tr>\n",
       "      <th>2</th>\n",
       "      <td>Rwanda</td>\n",
       "      <td>2016</td>\n",
       "      <td>uniqueid_103</td>\n",
       "      <td>Rural</td>\n",
       "      <td>Yes</td>\n",
       "      <td>7</td>\n",
       "      <td>43</td>\n",
       "      <td>Male</td>\n",
       "      <td>Head of Household</td>\n",
       "      <td>Married/Living together</td>\n",
       "      <td>Secondary education</td>\n",
       "      <td>Farming and Fishing</td>\n",
       "      <td>Rwanda_uniqueid_103</td>\n",
       "      <td>No</td>\n",
       "    </tr>\n",
       "    <tr>\n",
       "      <th>3</th>\n",
       "      <td>Rwanda</td>\n",
       "      <td>2016</td>\n",
       "      <td>uniqueid_4582</td>\n",
       "      <td>Rural</td>\n",
       "      <td>No</td>\n",
       "      <td>6</td>\n",
       "      <td>35</td>\n",
       "      <td>Female</td>\n",
       "      <td>Head of Household</td>\n",
       "      <td>Married/Living together</td>\n",
       "      <td>Primary education</td>\n",
       "      <td>Farming and Fishing</td>\n",
       "      <td>Rwanda_uniqueid_4582</td>\n",
       "      <td>No</td>\n",
       "    </tr>\n",
       "    <tr>\n",
       "      <th>4</th>\n",
       "      <td>Tanzania</td>\n",
       "      <td>2017</td>\n",
       "      <td>uniqueid_2854</td>\n",
       "      <td>Urban</td>\n",
       "      <td>Yes</td>\n",
       "      <td>2</td>\n",
       "      <td>30</td>\n",
       "      <td>Male</td>\n",
       "      <td>Head of Household</td>\n",
       "      <td>Single/Never Married</td>\n",
       "      <td>Primary education</td>\n",
       "      <td>Informally employed</td>\n",
       "      <td>Tanzania_uniqueid_2854</td>\n",
       "      <td>No</td>\n",
       "    </tr>\n",
       "  </tbody>\n",
       "</table>\n",
       "</div>"
      ],
      "text/plain": [
       "    country  year       uniqueid location_type cellphone_access  \\\n",
       "0    Rwanda  2016  uniqueid_4858         Rural              Yes   \n",
       "1  Tanzania  2017  uniqueid_3015         Urban               No   \n",
       "2    Rwanda  2016   uniqueid_103         Rural              Yes   \n",
       "3    Rwanda  2016  uniqueid_4582         Rural               No   \n",
       "4  Tanzania  2017  uniqueid_2854         Urban              Yes   \n",
       "\n",
       "   household_size  age_of_respondent gender_of_respondent  \\\n",
       "0               6                 45                 Male   \n",
       "1               4                 33               Female   \n",
       "2               7                 43                 Male   \n",
       "3               6                 35               Female   \n",
       "4               2                 30                 Male   \n",
       "\n",
       "  relationship_with_head           marital_status      education_level  \\\n",
       "0      Head of Household       Divorced/Seperated    Primary education   \n",
       "1      Head of Household     Single/Never Married    Primary education   \n",
       "2      Head of Household  Married/Living together  Secondary education   \n",
       "3      Head of Household  Married/Living together    Primary education   \n",
       "4      Head of Household     Single/Never Married    Primary education   \n",
       "\n",
       "              job_type                     uid bank_account  \n",
       "0  Farming and Fishing    Rwanda_uniqueid_4858           No  \n",
       "1        Self employed  Tanzania_uniqueid_3015           No  \n",
       "2  Farming and Fishing     Rwanda_uniqueid_103           No  \n",
       "3  Farming and Fishing    Rwanda_uniqueid_4582           No  \n",
       "4  Informally employed  Tanzania_uniqueid_2854           No  "
      ]
     },
     "execution_count": 2,
     "metadata": {},
     "output_type": "execute_result"
    }
   ],
   "source": [
    "data = pd.read_csv('/home/jeffsmedines/repos/HACK/train.csv')\n",
    "data.head()\n",
    "# household / age / gender / cellphone / education_level / job_type = DEIXAR\n",
    "# marital status / relationship with head? / country? /  location_type? / year?  = TIRAR"
   ]
  },
  {
   "cell_type": "markdown",
   "id": "66176141",
   "metadata": {},
   "source": [
    "# Initial Data Exploration"
   ]
  },
  {
   "cell_type": "code",
   "execution_count": 3,
   "id": "ec573a5d",
   "metadata": {},
   "outputs": [
    {
     "data": {
      "text/html": [
       "<div>\n",
       "<style scoped>\n",
       "    .dataframe tbody tr th:only-of-type {\n",
       "        vertical-align: middle;\n",
       "    }\n",
       "\n",
       "    .dataframe tbody tr th {\n",
       "        vertical-align: top;\n",
       "    }\n",
       "\n",
       "    .dataframe thead th {\n",
       "        text-align: right;\n",
       "    }\n",
       "</style>\n",
       "<table border=\"1\" class=\"dataframe\">\n",
       "  <thead>\n",
       "    <tr style=\"text-align: right;\">\n",
       "      <th></th>\n",
       "      <th>year</th>\n",
       "      <th>household_size</th>\n",
       "      <th>age_of_respondent</th>\n",
       "    </tr>\n",
       "  </thead>\n",
       "  <tbody>\n",
       "    <tr>\n",
       "      <th>count</th>\n",
       "      <td>11762.000000</td>\n",
       "      <td>11762.000000</td>\n",
       "      <td>11762.000000</td>\n",
       "    </tr>\n",
       "    <tr>\n",
       "      <th>mean</th>\n",
       "      <td>2016.983336</td>\n",
       "      <td>3.793913</td>\n",
       "      <td>38.602364</td>\n",
       "    </tr>\n",
       "    <tr>\n",
       "      <th>std</th>\n",
       "      <td>0.848669</td>\n",
       "      <td>2.225423</td>\n",
       "      <td>16.334624</td>\n",
       "    </tr>\n",
       "    <tr>\n",
       "      <th>min</th>\n",
       "      <td>2016.000000</td>\n",
       "      <td>1.000000</td>\n",
       "      <td>16.000000</td>\n",
       "    </tr>\n",
       "    <tr>\n",
       "      <th>25%</th>\n",
       "      <td>2016.000000</td>\n",
       "      <td>2.000000</td>\n",
       "      <td>26.000000</td>\n",
       "    </tr>\n",
       "    <tr>\n",
       "      <th>50%</th>\n",
       "      <td>2017.000000</td>\n",
       "      <td>3.000000</td>\n",
       "      <td>35.000000</td>\n",
       "    </tr>\n",
       "    <tr>\n",
       "      <th>75%</th>\n",
       "      <td>2018.000000</td>\n",
       "      <td>5.000000</td>\n",
       "      <td>48.000000</td>\n",
       "    </tr>\n",
       "    <tr>\n",
       "      <th>max</th>\n",
       "      <td>2018.000000</td>\n",
       "      <td>21.000000</td>\n",
       "      <td>100.000000</td>\n",
       "    </tr>\n",
       "  </tbody>\n",
       "</table>\n",
       "</div>"
      ],
      "text/plain": [
       "               year  household_size  age_of_respondent\n",
       "count  11762.000000    11762.000000       11762.000000\n",
       "mean    2016.983336        3.793913          38.602364\n",
       "std        0.848669        2.225423          16.334624\n",
       "min     2016.000000        1.000000          16.000000\n",
       "25%     2016.000000        2.000000          26.000000\n",
       "50%     2017.000000        3.000000          35.000000\n",
       "75%     2018.000000        5.000000          48.000000\n",
       "max     2018.000000       21.000000         100.000000"
      ]
     },
     "execution_count": 3,
     "metadata": {},
     "output_type": "execute_result"
    }
   ],
   "source": [
    "data.describe()"
   ]
  },
  {
   "cell_type": "code",
   "execution_count": 4,
   "id": "240ad3ae",
   "metadata": {},
   "outputs": [
    {
     "data": {
      "text/plain": [
       "country                   0\n",
       "year                      0\n",
       "uniqueid                  0\n",
       "location_type             0\n",
       "cellphone_access          0\n",
       "household_size            0\n",
       "age_of_respondent         0\n",
       "gender_of_respondent      0\n",
       "relationship_with_head    0\n",
       "marital_status            0\n",
       "education_level           0\n",
       "job_type                  0\n",
       "uid                       0\n",
       "bank_account              0\n",
       "dtype: int64"
      ]
     },
     "execution_count": 4,
     "metadata": {},
     "output_type": "execute_result"
    }
   ],
   "source": [
    "data.isnull().sum()"
   ]
  },
  {
   "cell_type": "code",
   "execution_count": 5,
   "id": "99b6c8b8",
   "metadata": {},
   "outputs": [
    {
     "data": {
      "text/plain": [
       "country                   object\n",
       "year                       int64\n",
       "uniqueid                  object\n",
       "location_type             object\n",
       "cellphone_access          object\n",
       "household_size             int64\n",
       "age_of_respondent          int64\n",
       "gender_of_respondent      object\n",
       "relationship_with_head    object\n",
       "marital_status            object\n",
       "education_level           object\n",
       "job_type                  object\n",
       "uid                       object\n",
       "bank_account              object\n",
       "dtype: object"
      ]
     },
     "execution_count": 5,
     "metadata": {},
     "output_type": "execute_result"
    }
   ],
   "source": [
    "data.dtypes"
   ]
  },
  {
   "cell_type": "code",
   "execution_count": 6,
   "id": "68d976ce",
   "metadata": {},
   "outputs": [
    {
     "data": {
      "text/plain": [
       "array(['Rural', 'Urban'], dtype=object)"
      ]
     },
     "execution_count": 6,
     "metadata": {},
     "output_type": "execute_result"
    }
   ],
   "source": [
    "data.location_type.unique()"
   ]
  },
  {
   "cell_type": "code",
   "execution_count": 7,
   "id": "aedd565b",
   "metadata": {},
   "outputs": [
    {
     "data": {
      "text/plain": [
       "array(['Yes', 'No'], dtype=object)"
      ]
     },
     "execution_count": 7,
     "metadata": {},
     "output_type": "execute_result"
    }
   ],
   "source": [
    "# binário - 0 ou 1 \n",
    "data.cellphone_access.unique()"
   ]
  },
  {
   "cell_type": "code",
   "execution_count": 8,
   "id": "83913c02",
   "metadata": {},
   "outputs": [
    {
     "data": {
      "text/plain": [
       "array(['Male', 'Female'], dtype=object)"
      ]
     },
     "execution_count": 8,
     "metadata": {},
     "output_type": "execute_result"
    }
   ],
   "source": [
    "# binário - 0 ou 1 \n",
    "data.gender_of_respondent.unique()"
   ]
  },
  {
   "cell_type": "code",
   "execution_count": 9,
   "id": "41a99438",
   "metadata": {},
   "outputs": [
    {
     "data": {
      "text/plain": [
       "array(['Head of Household', 'Spouse', 'Child', 'Parent', 'Other relative',\n",
       "       'Other non-relatives'], dtype=object)"
      ]
     },
     "execution_count": 9,
     "metadata": {},
     "output_type": "execute_result"
    }
   ],
   "source": [
    "# 6 categorias - sem ordem\n",
    "data.relationship_with_head.unique()"
   ]
  },
  {
   "cell_type": "code",
   "execution_count": 10,
   "id": "bb12f75b",
   "metadata": {},
   "outputs": [
    {
     "data": {
      "text/plain": [
       "array(['Divorced/Seperated', 'Single/Never Married',\n",
       "       'Married/Living together', 'Widowed', 'Dont know'], dtype=object)"
      ]
     },
     "execution_count": 10,
     "metadata": {},
     "output_type": "execute_result"
    }
   ],
   "source": [
    "# 5 categorias - sem ordem\n",
    "data.marital_status.unique()"
   ]
  },
  {
   "cell_type": "code",
   "execution_count": 11,
   "id": "9d352757",
   "metadata": {},
   "outputs": [
    {
     "data": {
      "text/plain": [
       "array(['Primary education', 'Secondary education',\n",
       "       'Vocational/Specialised training', 'Tertiary education',\n",
       "       'No formal education', 'Other/Dont know/RTA'], dtype=object)"
      ]
     },
     "execution_count": 11,
     "metadata": {},
     "output_type": "execute_result"
    }
   ],
   "source": [
    "# 6 categorias - com ordem \n",
    "data.education_level.unique()"
   ]
  },
  {
   "cell_type": "code",
   "execution_count": 12,
   "id": "4fb41cf2",
   "metadata": {},
   "outputs": [
    {
     "data": {
      "text/plain": [
       "array(['Farming and Fishing', 'Self employed', 'Informally employed',\n",
       "       'No Income', 'Other Income', 'Remittance Dependent',\n",
       "       'Formally employed Private', 'Government Dependent',\n",
       "       'Dont Know/Refuse to answer', 'Formally employed Government'],\n",
       "      dtype=object)"
      ]
     },
     "execution_count": 12,
     "metadata": {},
     "output_type": "execute_result"
    }
   ],
   "source": [
    "# 10 categorias - sem ordem\n",
    "data.job_type.unique()"
   ]
  },
  {
   "cell_type": "code",
   "execution_count": 13,
   "id": "33771757",
   "metadata": {},
   "outputs": [
    {
     "data": {
      "text/html": [
       "<div>\n",
       "<style scoped>\n",
       "    .dataframe tbody tr th:only-of-type {\n",
       "        vertical-align: middle;\n",
       "    }\n",
       "\n",
       "    .dataframe tbody tr th {\n",
       "        vertical-align: top;\n",
       "    }\n",
       "\n",
       "    .dataframe thead th {\n",
       "        text-align: right;\n",
       "    }\n",
       "</style>\n",
       "<table border=\"1\" class=\"dataframe\">\n",
       "  <thead>\n",
       "    <tr style=\"text-align: right;\">\n",
       "      <th></th>\n",
       "      <th>country</th>\n",
       "      <th>year</th>\n",
       "      <th>uniqueid</th>\n",
       "      <th>location_type</th>\n",
       "      <th>cellphone_access</th>\n",
       "      <th>household_size</th>\n",
       "      <th>age_of_respondent</th>\n",
       "      <th>gender_of_respondent</th>\n",
       "      <th>relationship_with_head</th>\n",
       "      <th>marital_status</th>\n",
       "      <th>education_level</th>\n",
       "      <th>job_type</th>\n",
       "      <th>uid</th>\n",
       "    </tr>\n",
       "    <tr>\n",
       "      <th>bank_account</th>\n",
       "      <th></th>\n",
       "      <th></th>\n",
       "      <th></th>\n",
       "      <th></th>\n",
       "      <th></th>\n",
       "      <th></th>\n",
       "      <th></th>\n",
       "      <th></th>\n",
       "      <th></th>\n",
       "      <th></th>\n",
       "      <th></th>\n",
       "      <th></th>\n",
       "      <th></th>\n",
       "    </tr>\n",
       "  </thead>\n",
       "  <tbody>\n",
       "    <tr>\n",
       "      <th>No</th>\n",
       "      <td>10077</td>\n",
       "      <td>10077</td>\n",
       "      <td>10077</td>\n",
       "      <td>10077</td>\n",
       "      <td>10077</td>\n",
       "      <td>10077</td>\n",
       "      <td>10077</td>\n",
       "      <td>10077</td>\n",
       "      <td>10077</td>\n",
       "      <td>10077</td>\n",
       "      <td>10077</td>\n",
       "      <td>10077</td>\n",
       "      <td>10077</td>\n",
       "    </tr>\n",
       "    <tr>\n",
       "      <th>Yes</th>\n",
       "      <td>1685</td>\n",
       "      <td>1685</td>\n",
       "      <td>1685</td>\n",
       "      <td>1685</td>\n",
       "      <td>1685</td>\n",
       "      <td>1685</td>\n",
       "      <td>1685</td>\n",
       "      <td>1685</td>\n",
       "      <td>1685</td>\n",
       "      <td>1685</td>\n",
       "      <td>1685</td>\n",
       "      <td>1685</td>\n",
       "      <td>1685</td>\n",
       "    </tr>\n",
       "  </tbody>\n",
       "</table>\n",
       "</div>"
      ],
      "text/plain": [
       "              country   year  uniqueid  location_type  cellphone_access  \\\n",
       "bank_account                                                              \n",
       "No              10077  10077     10077          10077             10077   \n",
       "Yes              1685   1685      1685           1685              1685   \n",
       "\n",
       "              household_size  age_of_respondent  gender_of_respondent  \\\n",
       "bank_account                                                            \n",
       "No                     10077              10077                 10077   \n",
       "Yes                     1685               1685                  1685   \n",
       "\n",
       "              relationship_with_head  marital_status  education_level  \\\n",
       "bank_account                                                            \n",
       "No                             10077           10077            10077   \n",
       "Yes                             1685            1685             1685   \n",
       "\n",
       "              job_type    uid  \n",
       "bank_account                   \n",
       "No               10077  10077  \n",
       "Yes               1685   1685  "
      ]
     },
     "execution_count": 13,
     "metadata": {},
     "output_type": "execute_result"
    }
   ],
   "source": [
    "data.groupby('bank_account').count()"
   ]
  },
  {
   "cell_type": "code",
   "execution_count": 14,
   "id": "8f983a0a",
   "metadata": {},
   "outputs": [
    {
     "name": "stdout",
     "output_type": "stream",
     "text": [
      "Self employed                   3207\n",
      "Informally employed             2788\n",
      "Farming and Fishing             2732\n",
      "Remittance Dependent            1252\n",
      "Other Income                     569\n",
      "Formally employed Private        514\n",
      "No Income                        310\n",
      "Formally employed Government     206\n",
      "Government Dependent             125\n",
      "Dont Know/Refuse to answer        59\n",
      "dtype: int64\n",
      " \n",
      "Married/Living together    5433\n",
      "Single/Never Married       3970\n",
      "Widowed                    1321\n",
      "Divorced/Seperated         1034\n",
      "Dont know                     4\n",
      "dtype: int64\n",
      "\n",
      "Head of Household      6358\n",
      "Spouse                 3287\n",
      "Child                  1099\n",
      "Parent                  560\n",
      "Other relative          368\n",
      "Other non-relatives      90\n",
      "dtype: int64\n",
      "\n",
      "Primary education                  6408\n",
      "No formal education                2240\n",
      "Secondary education                2129\n",
      "Tertiary education                  566\n",
      "Vocational/Specialised training     399\n",
      "Other/Dont know/RTA                  20\n",
      "dtype: int64\n"
     ]
    }
   ],
   "source": [
    "print(pd.value_counts(np.array(data['job_type'])))\n",
    "print(' ')\n",
    "print(pd.value_counts(np.array(data['marital_status'])) \n",
    ")\n",
    "print('')\n",
    "print(pd.value_counts(np.array(data['relationship_with_head']))\n",
    ")\n",
    "print('')\n",
    "print(pd.value_counts(np.array(data['education_level'])))"
   ]
  },
  {
   "cell_type": "markdown",
   "id": "4c488d43",
   "metadata": {},
   "source": [
    "# Train/Validation Split "
   ]
  },
  {
   "cell_type": "code",
   "execution_count": 21,
   "id": "8c9c55f8",
   "metadata": {
    "ExecuteTime": {
     "end_time": "2022-05-29T17:53:31.865774Z",
     "start_time": "2022-05-29T17:53:31.849665Z"
    }
   },
   "outputs": [],
   "source": [
    "# drop columns teste - todas as colunas\n",
    "data_dropped = data.drop(['uniqueid', 'uid'], axis=1)"
   ]
  },
  {
   "cell_type": "code",
   "execution_count": 22,
   "id": "a0da8b79",
   "metadata": {
    "ExecuteTime": {
     "end_time": "2022-05-29T17:53:37.030434Z",
     "start_time": "2022-05-29T17:53:37.020336Z"
    }
   },
   "outputs": [],
   "source": [
    "# separation of x and y \n",
    "X = data_dropped.iloc[:,0:11]\n",
    "y = data_dropped['bank_account']"
   ]
  },
  {
   "cell_type": "code",
   "execution_count": 7,
   "id": "403155d8",
   "metadata": {
    "ExecuteTime": {
     "end_time": "2022-05-29T16:50:07.575145Z",
     "start_time": "2022-05-29T16:50:07.559115Z"
    }
   },
   "outputs": [],
   "source": [
    "data_edited = data.drop(['uniqueid', 'uid','country', 'relationship_with_head','location_type'], axis=1)\n",
    "# separation of x and y \n",
    "X = data_edited.iloc[:,0:8]\n",
    "y = data_edited['bank_account']"
   ]
  },
  {
   "cell_type": "code",
   "execution_count": 23,
   "id": "d8fd9f7a",
   "metadata": {
    "ExecuteTime": {
     "end_time": "2022-05-29T17:53:49.579241Z",
     "start_time": "2022-05-29T17:53:49.499586Z"
    }
   },
   "outputs": [],
   "source": [
    "# aula 05 - Airbnb classificação \n",
    "# stratified split - gera indexes \n",
    "split = StratifiedShuffleSplit(n_splits=1, test_size=0.3, random_state=2187)\n",
    "\n",
    "for train_index, test_index in split.split(X,y):\n",
    "    X_train, X_val = X.loc[train_index], X.loc[test_index]\n",
    "    y_train, y_val = y.loc[train_index], y.loc[test_index]"
   ]
  },
  {
   "cell_type": "markdown",
   "id": "8a55613f",
   "metadata": {},
   "source": [
    "# RandomForest - Pipeline\n",
    "\n",
    "parametros padrão utilizados inicialmente:\n",
    "\n",
    "\n",
    "(n_estimators=100, criterion='gini', max_depth=X, min_samples_split=2, min_samples_leaf=1, min_weight_fraction_leaf=0.0, max_features='sqrt', max_leaf_nodes=X, min_impurity_decrease=0.0, \n",
    "bootstrap=True, oob_score=False, warm_start=False, class_weight=None, ccp_alpha=0.0, max_samples=X)"
   ]
  },
  {
   "cell_type": "code",
   "execution_count": 72,
   "id": "eead12e9",
   "metadata": {
    "ExecuteTime": {
     "end_time": "2022-05-29T17:54:10.445244Z",
     "start_time": "2022-05-29T17:54:10.418730Z"
    }
   },
   "outputs": [],
   "source": [
    "rf = RandomForestClassifier(random_state=2187)\n",
    "\n",
    "# parametros random forest - precisa do __ antes de cada parametro para que o gridsearch \n",
    "# entenda que são parametros do modelo\n",
    "params_rf = {}\n",
    "params_rf['model__criterion'] = ['entropy', 'gini']\n",
    "params_rf['model__n_estimators'] = [100, 150]\n",
    "params_rf['model__max_depth'] = [10]\n",
    "params_rf['model__oob_score'] = [True, False]\n",
    "# params_rf['model__min_samples_leaf'] = [1,2,] \n",
    "# params_rf['model__class_weight'] = [None,'balanced', 'balanced_subsample']\n",
    "# params_rf['model__max_features'] = [None, 'sqrt']\n",
    "params_rf['model'] = [rf]\n",
    "\n",
    "# max_features=sqrt(n_features) - n_features=40 = sqrt(40)\n",
    "\n",
    "# StratifiedKFold para que cada fold mantenha a proporção\n",
    "cv_kfold= StratifiedKFold(n_splits=5,random_state=2187,shuffle=True)\n",
    "\n",
    "# colunas que passarão pelo onehot\n",
    "onehot_columns = ['country', 'relationship_with_head', 'marital_status',  \n",
    "                  'education_level', 'cellphone_access', 'job_type' , 'location_type', \n",
    "                  'gender_of_respondent']\n",
    "\n",
    "# onehot_columns = ['marital_status','education_level', 'cellphone_access', 'job_type' , \n",
    "#                   'gender_of_respondent']\n",
    "\n",
    "# transformação - passthrough para que as colunas numericas que nao são transformadas pelo one hot passem reto\n",
    "encoders = ColumnTransformer(transformers= [('onehotencod', OneHotEncoder(), onehot_columns)],\n",
    "                                 remainder = 'passthrough', \n",
    "                                 verbose_feature_names_out = True,\n",
    "                                 verbose=True)\n",
    "\n",
    "# pipeline - colunas transformadas E colunas numericas entram no pipeline para treinar o modelo\n",
    "pipeline = Pipeline(steps = [('encoders', encoders),\n",
    "                             ('model', rf)],\n",
    "                    verbose=True)\n",
    "\n",
    "# criação de um f1 score em que a label positiva seja 'Yes' - Deu erro com a f1 score que não entendia \n",
    "# qual a label positiva, então foi necessário 'personalizar' o score f1.\n",
    "f1_scorer = make_scorer(f1_score, average='weighted')\n",
    "\n",
    "# Gridsearch - pega o pipeline, os parametros do modelo, a 'logica' de divisão kfold e treina modelos, \n",
    "# avaliando pelo f1 score e no final, retreinando o melhor modelo.\n",
    "grid_rf = GridSearchCV(pipeline, params_rf, \n",
    "                      cv = cv_kfold, \n",
    "                      scoring = f1_scorer,\n",
    "                      return_train_score = True,\n",
    "                      refit=True,\n",
    "                      verbose = 3)"
   ]
  },
  {
   "cell_type": "code",
   "execution_count": 73,
   "id": "13e9b9cc",
   "metadata": {
    "ExecuteTime": {
     "end_time": "2022-05-29T17:54:12.880279Z",
     "start_time": "2022-05-29T17:54:12.824487Z"
    }
   },
   "outputs": [],
   "source": [
    "target_encod = LabelBinarizer()\n",
    "y_train = target_encod.fit_transform(y_train)"
   ]
  },
  {
   "cell_type": "code",
   "execution_count": 74,
   "id": "46cf7b1e",
   "metadata": {
    "ExecuteTime": {
     "end_time": "2022-05-29T17:54:45.564545Z",
     "start_time": "2022-05-29T17:54:15.134527Z"
    },
    "code_folding": [],
    "scrolled": true,
    "slideshow": {
     "slide_type": "-"
    }
   },
   "outputs": [
    {
     "name": "stdout",
     "output_type": "stream",
     "text": [
      "Fitting 5 folds for each of 8 candidates, totalling 40 fits\n",
      "[ColumnTransformer] ... (1 of 2) Processing onehotencod, total=   0.0s\n",
      "[ColumnTransformer] ..... (2 of 2) Processing remainder, total=   0.0s\n",
      "[Pipeline] .......... (step 1 of 2) Processing encoders, total=   0.0s\n",
      "[Pipeline] ............. (step 2 of 2) Processing model, total=   0.9s\n",
      "[CV 1/5] END model=RandomForestClassifier(random_state=2187), model__criterion=entropy, model__max_depth=10, model__n_estimators=100, model__oob_score=True;, score=(train=0.887, test=0.867) total time=   0.9s\n",
      "[ColumnTransformer] ... (1 of 2) Processing onehotencod, total=   0.0s\n",
      "[ColumnTransformer] ..... (2 of 2) Processing remainder, total=   0.0s\n",
      "[Pipeline] .......... (step 1 of 2) Processing encoders, total=   0.0s\n",
      "[Pipeline] ............. (step 2 of 2) Processing model, total=   0.9s\n",
      "[CV 2/5] END model=RandomForestClassifier(random_state=2187), model__criterion=entropy, model__max_depth=10, model__n_estimators=100, model__oob_score=True;, score=(train=0.888, test=0.860) total time=   0.9s\n",
      "[ColumnTransformer] ... (1 of 2) Processing onehotencod, total=   0.0s\n",
      "[ColumnTransformer] ..... (2 of 2) Processing remainder, total=   0.0s\n",
      "[Pipeline] .......... (step 1 of 2) Processing encoders, total=   0.0s\n",
      "[Pipeline] ............. (step 2 of 2) Processing model, total=   0.9s\n",
      "[CV 3/5] END model=RandomForestClassifier(random_state=2187), model__criterion=entropy, model__max_depth=10, model__n_estimators=100, model__oob_score=True;, score=(train=0.887, test=0.864) total time=   0.9s\n",
      "[ColumnTransformer] ... (1 of 2) Processing onehotencod, total=   0.0s\n",
      "[ColumnTransformer] ..... (2 of 2) Processing remainder, total=   0.0s\n",
      "[Pipeline] .......... (step 1 of 2) Processing encoders, total=   0.0s\n",
      "[Pipeline] ............. (step 2 of 2) Processing model, total=   0.9s\n",
      "[CV 4/5] END model=RandomForestClassifier(random_state=2187), model__criterion=entropy, model__max_depth=10, model__n_estimators=100, model__oob_score=True;, score=(train=0.890, test=0.855) total time=   1.0s\n",
      "[ColumnTransformer] ... (1 of 2) Processing onehotencod, total=   0.0s\n",
      "[ColumnTransformer] ..... (2 of 2) Processing remainder, total=   0.0s\n",
      "[Pipeline] .......... (step 1 of 2) Processing encoders, total=   0.0s\n",
      "[Pipeline] ............. (step 2 of 2) Processing model, total=   0.9s\n",
      "[CV 5/5] END model=RandomForestClassifier(random_state=2187), model__criterion=entropy, model__max_depth=10, model__n_estimators=100, model__oob_score=True;, score=(train=0.886, test=0.866) total time=   0.9s\n",
      "[ColumnTransformer] ... (1 of 2) Processing onehotencod, total=   0.0s\n",
      "[ColumnTransformer] ..... (2 of 2) Processing remainder, total=   0.0s\n",
      "[Pipeline] .......... (step 1 of 2) Processing encoders, total=   0.0s\n",
      "[Pipeline] ............. (step 2 of 2) Processing model, total=   0.8s\n",
      "[CV 1/5] END model=RandomForestClassifier(random_state=2187), model__criterion=entropy, model__max_depth=10, model__n_estimators=100, model__oob_score=False;, score=(train=0.887, test=0.867) total time=   0.8s\n",
      "[ColumnTransformer] ... (1 of 2) Processing onehotencod, total=   0.0s\n",
      "[ColumnTransformer] ..... (2 of 2) Processing remainder, total=   0.0s\n",
      "[Pipeline] .......... (step 1 of 2) Processing encoders, total=   0.0s\n",
      "[Pipeline] ............. (step 2 of 2) Processing model, total=   0.8s\n",
      "[CV 2/5] END model=RandomForestClassifier(random_state=2187), model__criterion=entropy, model__max_depth=10, model__n_estimators=100, model__oob_score=False;, score=(train=0.888, test=0.860) total time=   0.8s\n",
      "[ColumnTransformer] ... (1 of 2) Processing onehotencod, total=   0.0s\n",
      "[ColumnTransformer] ..... (2 of 2) Processing remainder, total=   0.0s\n",
      "[Pipeline] .......... (step 1 of 2) Processing encoders, total=   0.0s\n",
      "[Pipeline] ............. (step 2 of 2) Processing model, total=   0.8s\n",
      "[CV 3/5] END model=RandomForestClassifier(random_state=2187), model__criterion=entropy, model__max_depth=10, model__n_estimators=100, model__oob_score=False;, score=(train=0.887, test=0.864) total time=   0.9s\n",
      "[ColumnTransformer] ... (1 of 2) Processing onehotencod, total=   0.0s\n",
      "[ColumnTransformer] ..... (2 of 2) Processing remainder, total=   0.0s\n",
      "[Pipeline] .......... (step 1 of 2) Processing encoders, total=   0.0s\n",
      "[Pipeline] ............. (step 2 of 2) Processing model, total=   0.8s\n",
      "[CV 4/5] END model=RandomForestClassifier(random_state=2187), model__criterion=entropy, model__max_depth=10, model__n_estimators=100, model__oob_score=False;, score=(train=0.890, test=0.855) total time=   0.9s\n",
      "[ColumnTransformer] ... (1 of 2) Processing onehotencod, total=   0.0s\n",
      "[ColumnTransformer] ..... (2 of 2) Processing remainder, total=   0.0s\n",
      "[Pipeline] .......... (step 1 of 2) Processing encoders, total=   0.0s\n",
      "[Pipeline] ............. (step 2 of 2) Processing model, total=   0.8s\n",
      "[CV 5/5] END model=RandomForestClassifier(random_state=2187), model__criterion=entropy, model__max_depth=10, model__n_estimators=100, model__oob_score=False;, score=(train=0.886, test=0.866) total time=   0.8s\n",
      "[ColumnTransformer] ... (1 of 2) Processing onehotencod, total=   0.0s\n",
      "[ColumnTransformer] ..... (2 of 2) Processing remainder, total=   0.0s\n",
      "[Pipeline] .......... (step 1 of 2) Processing encoders, total=   0.0s\n",
      "[Pipeline] ............. (step 2 of 2) Processing model, total=   1.3s\n",
      "[CV 1/5] END model=RandomForestClassifier(random_state=2187), model__criterion=entropy, model__max_depth=10, model__n_estimators=150, model__oob_score=True;, score=(train=0.888, test=0.869) total time=   1.4s\n",
      "[ColumnTransformer] ... (1 of 2) Processing onehotencod, total=   0.0s\n",
      "[ColumnTransformer] ..... (2 of 2) Processing remainder, total=   0.0s\n",
      "[Pipeline] .......... (step 1 of 2) Processing encoders, total=   0.0s\n",
      "[Pipeline] ............. (step 2 of 2) Processing model, total=   1.3s\n",
      "[CV 2/5] END model=RandomForestClassifier(random_state=2187), model__criterion=entropy, model__max_depth=10, model__n_estimators=150, model__oob_score=True;, score=(train=0.888, test=0.859) total time=   1.4s\n",
      "[ColumnTransformer] ... (1 of 2) Processing onehotencod, total=   0.0s\n",
      "[ColumnTransformer] ..... (2 of 2) Processing remainder, total=   0.0s\n",
      "[Pipeline] .......... (step 1 of 2) Processing encoders, total=   0.0s\n",
      "[Pipeline] ............. (step 2 of 2) Processing model, total=   1.3s\n",
      "[CV 3/5] END model=RandomForestClassifier(random_state=2187), model__criterion=entropy, model__max_depth=10, model__n_estimators=150, model__oob_score=True;, score=(train=0.888, test=0.861) total time=   1.4s\n",
      "[ColumnTransformer] ... (1 of 2) Processing onehotencod, total=   0.0s\n",
      "[ColumnTransformer] ..... (2 of 2) Processing remainder, total=   0.0s\n",
      "[Pipeline] .......... (step 1 of 2) Processing encoders, total=   0.0s\n",
      "[Pipeline] ............. (step 2 of 2) Processing model, total=   1.3s\n",
      "[CV 4/5] END model=RandomForestClassifier(random_state=2187), model__criterion=entropy, model__max_depth=10, model__n_estimators=150, model__oob_score=True;, score=(train=0.890, test=0.855) total time=   1.4s\n",
      "[ColumnTransformer] ... (1 of 2) Processing onehotencod, total=   0.0s\n",
      "[ColumnTransformer] ..... (2 of 2) Processing remainder, total=   0.0s\n",
      "[Pipeline] .......... (step 1 of 2) Processing encoders, total=   0.0s\n",
      "[Pipeline] ............. (step 2 of 2) Processing model, total=   1.3s\n",
      "[CV 5/5] END model=RandomForestClassifier(random_state=2187), model__criterion=entropy, model__max_depth=10, model__n_estimators=150, model__oob_score=True;, score=(train=0.886, test=0.864) total time=   1.4s\n",
      "[ColumnTransformer] ... (1 of 2) Processing onehotencod, total=   0.0s\n",
      "[ColumnTransformer] ..... (2 of 2) Processing remainder, total=   0.0s\n",
      "[Pipeline] .......... (step 1 of 2) Processing encoders, total=   0.0s\n",
      "[Pipeline] ............. (step 2 of 2) Processing model, total=   1.2s\n",
      "[CV 1/5] END model=RandomForestClassifier(random_state=2187), model__criterion=entropy, model__max_depth=10, model__n_estimators=150, model__oob_score=False;, score=(train=0.888, test=0.869) total time=   1.2s\n",
      "[ColumnTransformer] ... (1 of 2) Processing onehotencod, total=   0.0s\n",
      "[ColumnTransformer] ..... (2 of 2) Processing remainder, total=   0.0s\n",
      "[Pipeline] .......... (step 1 of 2) Processing encoders, total=   0.0s\n",
      "[Pipeline] ............. (step 2 of 2) Processing model, total=   1.2s\n",
      "[CV 2/5] END model=RandomForestClassifier(random_state=2187), model__criterion=entropy, model__max_depth=10, model__n_estimators=150, model__oob_score=False;, score=(train=0.888, test=0.859) total time=   1.2s\n",
      "[ColumnTransformer] ... (1 of 2) Processing onehotencod, total=   0.0s\n",
      "[ColumnTransformer] ..... (2 of 2) Processing remainder, total=   0.0s\n",
      "[Pipeline] .......... (step 1 of 2) Processing encoders, total=   0.0s\n"
     ]
    },
    {
     "name": "stdout",
     "output_type": "stream",
     "text": [
      "[Pipeline] ............. (step 2 of 2) Processing model, total=   1.2s\n",
      "[CV 3/5] END model=RandomForestClassifier(random_state=2187), model__criterion=entropy, model__max_depth=10, model__n_estimators=150, model__oob_score=False;, score=(train=0.888, test=0.861) total time=   1.3s\n",
      "[ColumnTransformer] ... (1 of 2) Processing onehotencod, total=   0.0s\n",
      "[ColumnTransformer] ..... (2 of 2) Processing remainder, total=   0.0s\n",
      "[Pipeline] .......... (step 1 of 2) Processing encoders, total=   0.0s\n",
      "[Pipeline] ............. (step 2 of 2) Processing model, total=   1.2s\n",
      "[CV 4/5] END model=RandomForestClassifier(random_state=2187), model__criterion=entropy, model__max_depth=10, model__n_estimators=150, model__oob_score=False;, score=(train=0.890, test=0.855) total time=   1.3s\n",
      "[ColumnTransformer] ... (1 of 2) Processing onehotencod, total=   0.0s\n",
      "[ColumnTransformer] ..... (2 of 2) Processing remainder, total=   0.0s\n",
      "[Pipeline] .......... (step 1 of 2) Processing encoders, total=   0.0s\n",
      "[Pipeline] ............. (step 2 of 2) Processing model, total=   1.2s\n",
      "[CV 5/5] END model=RandomForestClassifier(random_state=2187), model__criterion=entropy, model__max_depth=10, model__n_estimators=150, model__oob_score=False;, score=(train=0.886, test=0.864) total time=   1.3s\n",
      "[ColumnTransformer] ... (1 of 2) Processing onehotencod, total=   0.0s\n",
      "[ColumnTransformer] ..... (2 of 2) Processing remainder, total=   0.0s\n",
      "[Pipeline] .......... (step 1 of 2) Processing encoders, total=   0.0s\n",
      "[Pipeline] ............. (step 2 of 2) Processing model, total=   0.9s\n",
      "[CV 1/5] END model=RandomForestClassifier(random_state=2187), model__criterion=gini, model__max_depth=10, model__n_estimators=100, model__oob_score=True;, score=(train=0.891, test=0.866) total time=   1.0s\n",
      "[ColumnTransformer] ... (1 of 2) Processing onehotencod, total=   0.0s\n",
      "[ColumnTransformer] ..... (2 of 2) Processing remainder, total=   0.0s\n",
      "[Pipeline] .......... (step 1 of 2) Processing encoders, total=   0.0s\n",
      "[Pipeline] ............. (step 2 of 2) Processing model, total=   0.9s\n",
      "[CV 2/5] END model=RandomForestClassifier(random_state=2187), model__criterion=gini, model__max_depth=10, model__n_estimators=100, model__oob_score=True;, score=(train=0.892, test=0.860) total time=   0.9s\n",
      "[ColumnTransformer] ... (1 of 2) Processing onehotencod, total=   0.0s\n",
      "[ColumnTransformer] ..... (2 of 2) Processing remainder, total=   0.0s\n",
      "[Pipeline] .......... (step 1 of 2) Processing encoders, total=   0.0s\n",
      "[Pipeline] ............. (step 2 of 2) Processing model, total=   0.9s\n",
      "[CV 3/5] END model=RandomForestClassifier(random_state=2187), model__criterion=gini, model__max_depth=10, model__n_estimators=100, model__oob_score=True;, score=(train=0.894, test=0.862) total time=   0.9s\n",
      "[ColumnTransformer] ... (1 of 2) Processing onehotencod, total=   0.0s\n",
      "[ColumnTransformer] ..... (2 of 2) Processing remainder, total=   0.0s\n",
      "[Pipeline] .......... (step 1 of 2) Processing encoders, total=   0.0s\n",
      "[Pipeline] ............. (step 2 of 2) Processing model, total=   0.9s\n",
      "[CV 4/5] END model=RandomForestClassifier(random_state=2187), model__criterion=gini, model__max_depth=10, model__n_estimators=100, model__oob_score=True;, score=(train=0.893, test=0.856) total time=   1.0s\n",
      "[ColumnTransformer] ... (1 of 2) Processing onehotencod, total=   0.0s\n",
      "[ColumnTransformer] ..... (2 of 2) Processing remainder, total=   0.0s\n",
      "[Pipeline] .......... (step 1 of 2) Processing encoders, total=   0.0s\n",
      "[Pipeline] ............. (step 2 of 2) Processing model, total=   0.9s\n",
      "[CV 5/5] END model=RandomForestClassifier(random_state=2187), model__criterion=gini, model__max_depth=10, model__n_estimators=100, model__oob_score=True;, score=(train=0.888, test=0.864) total time=   0.9s\n",
      "[ColumnTransformer] ... (1 of 2) Processing onehotencod, total=   0.0s\n",
      "[ColumnTransformer] ..... (2 of 2) Processing remainder, total=   0.0s\n",
      "[Pipeline] .......... (step 1 of 2) Processing encoders, total=   0.0s\n",
      "[Pipeline] ............. (step 2 of 2) Processing model, total=   0.8s\n",
      "[CV 1/5] END model=RandomForestClassifier(random_state=2187), model__criterion=gini, model__max_depth=10, model__n_estimators=100, model__oob_score=False;, score=(train=0.891, test=0.866) total time=   0.8s\n",
      "[ColumnTransformer] ... (1 of 2) Processing onehotencod, total=   0.0s\n",
      "[ColumnTransformer] ..... (2 of 2) Processing remainder, total=   0.0s\n",
      "[Pipeline] .......... (step 1 of 2) Processing encoders, total=   0.0s\n",
      "[Pipeline] ............. (step 2 of 2) Processing model, total=   0.8s\n",
      "[CV 2/5] END model=RandomForestClassifier(random_state=2187), model__criterion=gini, model__max_depth=10, model__n_estimators=100, model__oob_score=False;, score=(train=0.892, test=0.860) total time=   0.8s\n",
      "[ColumnTransformer] ... (1 of 2) Processing onehotencod, total=   0.0s\n",
      "[ColumnTransformer] ..... (2 of 2) Processing remainder, total=   0.0s\n",
      "[Pipeline] .......... (step 1 of 2) Processing encoders, total=   0.0s\n",
      "[Pipeline] ............. (step 2 of 2) Processing model, total=   0.8s\n",
      "[CV 3/5] END model=RandomForestClassifier(random_state=2187), model__criterion=gini, model__max_depth=10, model__n_estimators=100, model__oob_score=False;, score=(train=0.894, test=0.862) total time=   0.8s\n",
      "[ColumnTransformer] ... (1 of 2) Processing onehotencod, total=   0.0s\n",
      "[ColumnTransformer] ..... (2 of 2) Processing remainder, total=   0.0s\n",
      "[Pipeline] .......... (step 1 of 2) Processing encoders, total=   0.0s\n",
      "[Pipeline] ............. (step 2 of 2) Processing model, total=   0.8s\n",
      "[CV 4/5] END model=RandomForestClassifier(random_state=2187), model__criterion=gini, model__max_depth=10, model__n_estimators=100, model__oob_score=False;, score=(train=0.893, test=0.856) total time=   0.8s\n",
      "[ColumnTransformer] ... (1 of 2) Processing onehotencod, total=   0.0s\n",
      "[ColumnTransformer] ..... (2 of 2) Processing remainder, total=   0.0s\n",
      "[Pipeline] .......... (step 1 of 2) Processing encoders, total=   0.0s\n",
      "[Pipeline] ............. (step 2 of 2) Processing model, total=   0.8s\n",
      "[CV 5/5] END model=RandomForestClassifier(random_state=2187), model__criterion=gini, model__max_depth=10, model__n_estimators=100, model__oob_score=False;, score=(train=0.888, test=0.864) total time=   0.9s\n",
      "[ColumnTransformer] ... (1 of 2) Processing onehotencod, total=   0.0s\n",
      "[ColumnTransformer] ..... (2 of 2) Processing remainder, total=   0.0s\n",
      "[Pipeline] .......... (step 1 of 2) Processing encoders, total=   0.0s\n",
      "[Pipeline] ............. (step 2 of 2) Processing model, total=   1.3s\n",
      "[CV 1/5] END model=RandomForestClassifier(random_state=2187), model__criterion=gini, model__max_depth=10, model__n_estimators=150, model__oob_score=True;, score=(train=0.891, test=0.866) total time=   1.4s\n",
      "[ColumnTransformer] ... (1 of 2) Processing onehotencod, total=   0.0s\n",
      "[ColumnTransformer] ..... (2 of 2) Processing remainder, total=   0.0s\n",
      "[Pipeline] .......... (step 1 of 2) Processing encoders, total=   0.0s\n",
      "[Pipeline] ............. (step 2 of 2) Processing model, total=   1.4s\n",
      "[CV 2/5] END model=RandomForestClassifier(random_state=2187), model__criterion=gini, model__max_depth=10, model__n_estimators=150, model__oob_score=True;, score=(train=0.891, test=0.861) total time=   1.4s\n",
      "[ColumnTransformer] ... (1 of 2) Processing onehotencod, total=   0.0s\n",
      "[ColumnTransformer] ..... (2 of 2) Processing remainder, total=   0.0s\n",
      "[Pipeline] .......... (step 1 of 2) Processing encoders, total=   0.0s\n",
      "[Pipeline] ............. (step 2 of 2) Processing model, total=   1.3s\n",
      "[CV 3/5] END model=RandomForestClassifier(random_state=2187), model__criterion=gini, model__max_depth=10, model__n_estimators=150, model__oob_score=True;, score=(train=0.893, test=0.862) total time=   1.4s\n",
      "[ColumnTransformer] ... (1 of 2) Processing onehotencod, total=   0.0s\n",
      "[ColumnTransformer] ..... (2 of 2) Processing remainder, total=   0.0s\n",
      "[Pipeline] .......... (step 1 of 2) Processing encoders, total=   0.0s\n",
      "[Pipeline] ............. (step 2 of 2) Processing model, total=   1.3s\n",
      "[CV 4/5] END model=RandomForestClassifier(random_state=2187), model__criterion=gini, model__max_depth=10, model__n_estimators=150, model__oob_score=True;, score=(train=0.891, test=0.856) total time=   1.4s\n",
      "[ColumnTransformer] ... (1 of 2) Processing onehotencod, total=   0.0s\n",
      "[ColumnTransformer] ..... (2 of 2) Processing remainder, total=   0.0s\n",
      "[Pipeline] .......... (step 1 of 2) Processing encoders, total=   0.0s\n"
     ]
    },
    {
     "name": "stdout",
     "output_type": "stream",
     "text": [
      "[Pipeline] ............. (step 2 of 2) Processing model, total=   1.4s\n",
      "[CV 5/5] END model=RandomForestClassifier(random_state=2187), model__criterion=gini, model__max_depth=10, model__n_estimators=150, model__oob_score=True;, score=(train=0.887, test=0.865) total time=   1.4s\n",
      "[ColumnTransformer] ... (1 of 2) Processing onehotencod, total=   0.0s\n",
      "[ColumnTransformer] ..... (2 of 2) Processing remainder, total=   0.0s\n",
      "[Pipeline] .......... (step 1 of 2) Processing encoders, total=   0.0s\n",
      "[Pipeline] ............. (step 2 of 2) Processing model, total=   1.2s\n",
      "[CV 1/5] END model=RandomForestClassifier(random_state=2187), model__criterion=gini, model__max_depth=10, model__n_estimators=150, model__oob_score=False;, score=(train=0.891, test=0.866) total time=   1.2s\n",
      "[ColumnTransformer] ... (1 of 2) Processing onehotencod, total=   0.0s\n",
      "[ColumnTransformer] ..... (2 of 2) Processing remainder, total=   0.0s\n",
      "[Pipeline] .......... (step 1 of 2) Processing encoders, total=   0.0s\n",
      "[Pipeline] ............. (step 2 of 2) Processing model, total=   1.2s\n",
      "[CV 2/5] END model=RandomForestClassifier(random_state=2187), model__criterion=gini, model__max_depth=10, model__n_estimators=150, model__oob_score=False;, score=(train=0.891, test=0.861) total time=   1.2s\n",
      "[ColumnTransformer] ... (1 of 2) Processing onehotencod, total=   0.0s\n",
      "[ColumnTransformer] ..... (2 of 2) Processing remainder, total=   0.0s\n",
      "[Pipeline] .......... (step 1 of 2) Processing encoders, total=   0.0s\n",
      "[Pipeline] ............. (step 2 of 2) Processing model, total=   1.2s\n",
      "[CV 3/5] END model=RandomForestClassifier(random_state=2187), model__criterion=gini, model__max_depth=10, model__n_estimators=150, model__oob_score=False;, score=(train=0.893, test=0.862) total time=   1.3s\n",
      "[ColumnTransformer] ... (1 of 2) Processing onehotencod, total=   0.0s\n",
      "[ColumnTransformer] ..... (2 of 2) Processing remainder, total=   0.0s\n",
      "[Pipeline] .......... (step 1 of 2) Processing encoders, total=   0.0s\n",
      "[Pipeline] ............. (step 2 of 2) Processing model, total=   1.2s\n",
      "[CV 4/5] END model=RandomForestClassifier(random_state=2187), model__criterion=gini, model__max_depth=10, model__n_estimators=150, model__oob_score=False;, score=(train=0.891, test=0.856) total time=   1.3s\n",
      "[ColumnTransformer] ... (1 of 2) Processing onehotencod, total=   0.0s\n",
      "[ColumnTransformer] ..... (2 of 2) Processing remainder, total=   0.0s\n",
      "[Pipeline] .......... (step 1 of 2) Processing encoders, total=   0.0s\n",
      "[Pipeline] ............. (step 2 of 2) Processing model, total=   1.2s\n",
      "[CV 5/5] END model=RandomForestClassifier(random_state=2187), model__criterion=gini, model__max_depth=10, model__n_estimators=150, model__oob_score=False;, score=(train=0.887, test=0.865) total time=   1.2s\n",
      "[ColumnTransformer] ... (1 of 2) Processing onehotencod, total=   0.0s\n",
      "[ColumnTransformer] ..... (2 of 2) Processing remainder, total=   0.0s\n",
      "[Pipeline] .......... (step 1 of 2) Processing encoders, total=   0.0s\n",
      "[Pipeline] ............. (step 2 of 2) Processing model, total=   1.1s\n"
     ]
    },
    {
     "data": {
      "text/html": [
       "<style>#sk-container-id-8 {color: black;background-color: white;}#sk-container-id-8 pre{padding: 0;}#sk-container-id-8 div.sk-toggleable {background-color: white;}#sk-container-id-8 label.sk-toggleable__label {cursor: pointer;display: block;width: 100%;margin-bottom: 0;padding: 0.3em;box-sizing: border-box;text-align: center;}#sk-container-id-8 label.sk-toggleable__label-arrow:before {content: \"▸\";float: left;margin-right: 0.25em;color: #696969;}#sk-container-id-8 label.sk-toggleable__label-arrow:hover:before {color: black;}#sk-container-id-8 div.sk-estimator:hover label.sk-toggleable__label-arrow:before {color: black;}#sk-container-id-8 div.sk-toggleable__content {max-height: 0;max-width: 0;overflow: hidden;text-align: left;background-color: #f0f8ff;}#sk-container-id-8 div.sk-toggleable__content pre {margin: 0.2em;color: black;border-radius: 0.25em;background-color: #f0f8ff;}#sk-container-id-8 input.sk-toggleable__control:checked~div.sk-toggleable__content {max-height: 200px;max-width: 100%;overflow: auto;}#sk-container-id-8 input.sk-toggleable__control:checked~label.sk-toggleable__label-arrow:before {content: \"▾\";}#sk-container-id-8 div.sk-estimator input.sk-toggleable__control:checked~label.sk-toggleable__label {background-color: #d4ebff;}#sk-container-id-8 div.sk-label input.sk-toggleable__control:checked~label.sk-toggleable__label {background-color: #d4ebff;}#sk-container-id-8 input.sk-hidden--visually {border: 0;clip: rect(1px 1px 1px 1px);clip: rect(1px, 1px, 1px, 1px);height: 1px;margin: -1px;overflow: hidden;padding: 0;position: absolute;width: 1px;}#sk-container-id-8 div.sk-estimator {font-family: monospace;background-color: #f0f8ff;border: 1px dotted black;border-radius: 0.25em;box-sizing: border-box;margin-bottom: 0.5em;}#sk-container-id-8 div.sk-estimator:hover {background-color: #d4ebff;}#sk-container-id-8 div.sk-parallel-item::after {content: \"\";width: 100%;border-bottom: 1px solid gray;flex-grow: 1;}#sk-container-id-8 div.sk-label:hover label.sk-toggleable__label {background-color: #d4ebff;}#sk-container-id-8 div.sk-serial::before {content: \"\";position: absolute;border-left: 1px solid gray;box-sizing: border-box;top: 0;bottom: 0;left: 50%;z-index: 0;}#sk-container-id-8 div.sk-serial {display: flex;flex-direction: column;align-items: center;background-color: white;padding-right: 0.2em;padding-left: 0.2em;position: relative;}#sk-container-id-8 div.sk-item {position: relative;z-index: 1;}#sk-container-id-8 div.sk-parallel {display: flex;align-items: stretch;justify-content: center;background-color: white;position: relative;}#sk-container-id-8 div.sk-item::before, #sk-container-id-8 div.sk-parallel-item::before {content: \"\";position: absolute;border-left: 1px solid gray;box-sizing: border-box;top: 0;bottom: 0;left: 50%;z-index: -1;}#sk-container-id-8 div.sk-parallel-item {display: flex;flex-direction: column;z-index: 1;position: relative;background-color: white;}#sk-container-id-8 div.sk-parallel-item:first-child::after {align-self: flex-end;width: 50%;}#sk-container-id-8 div.sk-parallel-item:last-child::after {align-self: flex-start;width: 50%;}#sk-container-id-8 div.sk-parallel-item:only-child::after {width: 0;}#sk-container-id-8 div.sk-dashed-wrapped {border: 1px dashed gray;margin: 0 0.4em 0.5em 0.4em;box-sizing: border-box;padding-bottom: 0.4em;background-color: white;}#sk-container-id-8 div.sk-label label {font-family: monospace;font-weight: bold;display: inline-block;line-height: 1.2em;}#sk-container-id-8 div.sk-label-container {text-align: center;}#sk-container-id-8 div.sk-container {/* jupyter's `normalize.less` sets `[hidden] { display: none; }` but bootstrap.min.css set `[hidden] { display: none !important; }` so we also need the `!important` here to be able to override the default hidden behavior on the sphinx rendered scikit-learn.org. See: https://github.com/scikit-learn/scikit-learn/issues/21755 */display: inline-block !important;position: relative;}#sk-container-id-8 div.sk-text-repr-fallback {display: none;}</style><div id=\"sk-container-id-8\" class=\"sk-top-container\"><div class=\"sk-text-repr-fallback\"><pre>GridSearchCV(cv=StratifiedKFold(n_splits=5, random_state=2187, shuffle=True),\n",
       "             estimator=Pipeline(steps=[(&#x27;encoders&#x27;,\n",
       "                                        ColumnTransformer(remainder=&#x27;passthrough&#x27;,\n",
       "                                                          transformers=[(&#x27;onehotencod&#x27;,\n",
       "                                                                         OneHotEncoder(),\n",
       "                                                                         [&#x27;country&#x27;,\n",
       "                                                                          &#x27;relationship_with_head&#x27;,\n",
       "                                                                          &#x27;marital_status&#x27;,\n",
       "                                                                          &#x27;education_level&#x27;,\n",
       "                                                                          &#x27;cellphone_access&#x27;,\n",
       "                                                                          &#x27;job_type&#x27;,\n",
       "                                                                          &#x27;location_type&#x27;,\n",
       "                                                                          &#x27;gender_of_respondent&#x27;])],\n",
       "                                                          verbose...\n",
       "                                                               random_state=2187))],\n",
       "                                verbose=True),\n",
       "             param_grid={&#x27;model&#x27;: [RandomForestClassifier(criterion=&#x27;entropy&#x27;,\n",
       "                                                          max_depth=10,\n",
       "                                                          oob_score=True,\n",
       "                                                          random_state=2187)],\n",
       "                         &#x27;model__criterion&#x27;: [&#x27;entropy&#x27;, &#x27;gini&#x27;],\n",
       "                         &#x27;model__max_depth&#x27;: [10],\n",
       "                         &#x27;model__n_estimators&#x27;: [100, 150],\n",
       "                         &#x27;model__oob_score&#x27;: [True, False]},\n",
       "             return_train_score=True,\n",
       "             scoring=make_scorer(f1_score, average=weighted), verbose=3)</pre><b>In a Jupyter environment, please rerun this cell to show the HTML representation or trust the notebook. <br />On GitHub, the HTML representation is unable to render, please try loading this page with nbviewer.org.</b></div><div class=\"sk-container\" hidden><div class=\"sk-item sk-dashed-wrapped\"><div class=\"sk-label-container\"><div class=\"sk-label sk-toggleable\"><input class=\"sk-toggleable__control sk-hidden--visually\" id=\"sk-estimator-id-57\" type=\"checkbox\" ><label for=\"sk-estimator-id-57\" class=\"sk-toggleable__label sk-toggleable__label-arrow\">GridSearchCV</label><div class=\"sk-toggleable__content\"><pre>GridSearchCV(cv=StratifiedKFold(n_splits=5, random_state=2187, shuffle=True),\n",
       "             estimator=Pipeline(steps=[(&#x27;encoders&#x27;,\n",
       "                                        ColumnTransformer(remainder=&#x27;passthrough&#x27;,\n",
       "                                                          transformers=[(&#x27;onehotencod&#x27;,\n",
       "                                                                         OneHotEncoder(),\n",
       "                                                                         [&#x27;country&#x27;,\n",
       "                                                                          &#x27;relationship_with_head&#x27;,\n",
       "                                                                          &#x27;marital_status&#x27;,\n",
       "                                                                          &#x27;education_level&#x27;,\n",
       "                                                                          &#x27;cellphone_access&#x27;,\n",
       "                                                                          &#x27;job_type&#x27;,\n",
       "                                                                          &#x27;location_type&#x27;,\n",
       "                                                                          &#x27;gender_of_respondent&#x27;])],\n",
       "                                                          verbose...\n",
       "                                                               random_state=2187))],\n",
       "                                verbose=True),\n",
       "             param_grid={&#x27;model&#x27;: [RandomForestClassifier(criterion=&#x27;entropy&#x27;,\n",
       "                                                          max_depth=10,\n",
       "                                                          oob_score=True,\n",
       "                                                          random_state=2187)],\n",
       "                         &#x27;model__criterion&#x27;: [&#x27;entropy&#x27;, &#x27;gini&#x27;],\n",
       "                         &#x27;model__max_depth&#x27;: [10],\n",
       "                         &#x27;model__n_estimators&#x27;: [100, 150],\n",
       "                         &#x27;model__oob_score&#x27;: [True, False]},\n",
       "             return_train_score=True,\n",
       "             scoring=make_scorer(f1_score, average=weighted), verbose=3)</pre></div></div></div><div class=\"sk-parallel\"><div class=\"sk-parallel-item\"><div class=\"sk-item\"><div class=\"sk-label-container\"><div class=\"sk-label sk-toggleable\"><input class=\"sk-toggleable__control sk-hidden--visually\" id=\"sk-estimator-id-58\" type=\"checkbox\" ><label for=\"sk-estimator-id-58\" class=\"sk-toggleable__label sk-toggleable__label-arrow\">estimator: Pipeline</label><div class=\"sk-toggleable__content\"><pre>Pipeline(steps=[(&#x27;encoders&#x27;,\n",
       "                 ColumnTransformer(remainder=&#x27;passthrough&#x27;,\n",
       "                                   transformers=[(&#x27;onehotencod&#x27;,\n",
       "                                                  OneHotEncoder(),\n",
       "                                                  [&#x27;country&#x27;,\n",
       "                                                   &#x27;relationship_with_head&#x27;,\n",
       "                                                   &#x27;marital_status&#x27;,\n",
       "                                                   &#x27;education_level&#x27;,\n",
       "                                                   &#x27;cellphone_access&#x27;,\n",
       "                                                   &#x27;job_type&#x27;, &#x27;location_type&#x27;,\n",
       "                                                   &#x27;gender_of_respondent&#x27;])],\n",
       "                                   verbose=True)),\n",
       "                (&#x27;model&#x27;,\n",
       "                 RandomForestClassifier(criterion=&#x27;entropy&#x27;, max_depth=10,\n",
       "                                        oob_score=True, random_state=2187))],\n",
       "         verbose=True)</pre></div></div></div><div class=\"sk-serial\"><div class=\"sk-item\"><div class=\"sk-serial\"><div class=\"sk-item sk-dashed-wrapped\"><div class=\"sk-label-container\"><div class=\"sk-label sk-toggleable\"><input class=\"sk-toggleable__control sk-hidden--visually\" id=\"sk-estimator-id-59\" type=\"checkbox\" ><label for=\"sk-estimator-id-59\" class=\"sk-toggleable__label sk-toggleable__label-arrow\">encoders: ColumnTransformer</label><div class=\"sk-toggleable__content\"><pre>ColumnTransformer(remainder=&#x27;passthrough&#x27;,\n",
       "                  transformers=[(&#x27;onehotencod&#x27;, OneHotEncoder(),\n",
       "                                 [&#x27;country&#x27;, &#x27;relationship_with_head&#x27;,\n",
       "                                  &#x27;marital_status&#x27;, &#x27;education_level&#x27;,\n",
       "                                  &#x27;cellphone_access&#x27;, &#x27;job_type&#x27;,\n",
       "                                  &#x27;location_type&#x27;, &#x27;gender_of_respondent&#x27;])],\n",
       "                  verbose=True)</pre></div></div></div><div class=\"sk-parallel\"><div class=\"sk-parallel-item\"><div class=\"sk-item\"><div class=\"sk-label-container\"><div class=\"sk-label sk-toggleable\"><input class=\"sk-toggleable__control sk-hidden--visually\" id=\"sk-estimator-id-60\" type=\"checkbox\" ><label for=\"sk-estimator-id-60\" class=\"sk-toggleable__label sk-toggleable__label-arrow\">onehotencod</label><div class=\"sk-toggleable__content\"><pre>[&#x27;country&#x27;, &#x27;relationship_with_head&#x27;, &#x27;marital_status&#x27;, &#x27;education_level&#x27;, &#x27;cellphone_access&#x27;, &#x27;job_type&#x27;, &#x27;location_type&#x27;, &#x27;gender_of_respondent&#x27;]</pre></div></div></div><div class=\"sk-serial\"><div class=\"sk-item\"><div class=\"sk-estimator sk-toggleable\"><input class=\"sk-toggleable__control sk-hidden--visually\" id=\"sk-estimator-id-61\" type=\"checkbox\" ><label for=\"sk-estimator-id-61\" class=\"sk-toggleable__label sk-toggleable__label-arrow\">OneHotEncoder</label><div class=\"sk-toggleable__content\"><pre>OneHotEncoder()</pre></div></div></div></div></div></div><div class=\"sk-parallel-item\"><div class=\"sk-item\"><div class=\"sk-label-container\"><div class=\"sk-label sk-toggleable\"><input class=\"sk-toggleable__control sk-hidden--visually\" id=\"sk-estimator-id-62\" type=\"checkbox\" ><label for=\"sk-estimator-id-62\" class=\"sk-toggleable__label sk-toggleable__label-arrow\">remainder</label><div class=\"sk-toggleable__content\"><pre></pre></div></div></div><div class=\"sk-serial\"><div class=\"sk-item\"><div class=\"sk-estimator sk-toggleable\"><input class=\"sk-toggleable__control sk-hidden--visually\" id=\"sk-estimator-id-63\" type=\"checkbox\" ><label for=\"sk-estimator-id-63\" class=\"sk-toggleable__label sk-toggleable__label-arrow\">passthrough</label><div class=\"sk-toggleable__content\"><pre>passthrough</pre></div></div></div></div></div></div></div></div><div class=\"sk-item\"><div class=\"sk-estimator sk-toggleable\"><input class=\"sk-toggleable__control sk-hidden--visually\" id=\"sk-estimator-id-64\" type=\"checkbox\" ><label for=\"sk-estimator-id-64\" class=\"sk-toggleable__label sk-toggleable__label-arrow\">RandomForestClassifier</label><div class=\"sk-toggleable__content\"><pre>RandomForestClassifier(criterion=&#x27;entropy&#x27;, max_depth=10, oob_score=True,\n",
       "                       random_state=2187)</pre></div></div></div></div></div></div></div></div></div></div></div></div>"
      ],
      "text/plain": [
       "GridSearchCV(cv=StratifiedKFold(n_splits=5, random_state=2187, shuffle=True),\n",
       "             estimator=Pipeline(steps=[('encoders',\n",
       "                                        ColumnTransformer(remainder='passthrough',\n",
       "                                                          transformers=[('onehotencod',\n",
       "                                                                         OneHotEncoder(),\n",
       "                                                                         ['country',\n",
       "                                                                          'relationship_with_head',\n",
       "                                                                          'marital_status',\n",
       "                                                                          'education_level',\n",
       "                                                                          'cellphone_access',\n",
       "                                                                          'job_type',\n",
       "                                                                          'location_type',\n",
       "                                                                          'gender_of_respondent'])],\n",
       "                                                          verbose...\n",
       "                                                               random_state=2187))],\n",
       "                                verbose=True),\n",
       "             param_grid={'model': [RandomForestClassifier(criterion='entropy',\n",
       "                                                          max_depth=10,\n",
       "                                                          oob_score=True,\n",
       "                                                          random_state=2187)],\n",
       "                         'model__criterion': ['entropy', 'gini'],\n",
       "                         'model__max_depth': [10],\n",
       "                         'model__n_estimators': [100, 150],\n",
       "                         'model__oob_score': [True, False]},\n",
       "             return_train_score=True,\n",
       "             scoring=make_scorer(f1_score, average=weighted), verbose=3)"
      ]
     },
     "execution_count": 74,
     "metadata": {},
     "output_type": "execute_result"
    }
   ],
   "source": [
    "# fit na grid\n",
    "grid_rf.fit(X_train,y_train.ravel())"
   ]
  },
  {
   "cell_type": "code",
   "execution_count": 75,
   "id": "413ee909",
   "metadata": {
    "ExecuteTime": {
     "end_time": "2022-05-29T17:49:01.783382Z",
     "start_time": "2022-05-29T17:49:01.763758Z"
    },
    "code_folding": []
   },
   "outputs": [
    {
     "data": {
      "text/plain": [
       "{'model': RandomForestClassifier(criterion='entropy', max_depth=10, oob_score=True,\n",
       "                        random_state=2187),\n",
       " 'model__criterion': 'entropy',\n",
       " 'model__max_depth': 10,\n",
       " 'model__n_estimators': 100,\n",
       " 'model__oob_score': True}"
      ]
     },
     "execution_count": 75,
     "metadata": {},
     "output_type": "execute_result"
    }
   ],
   "source": [
    "# quais os parametros do melhor modelo encontrado\n",
    "grid_rf.best_params_"
   ]
  },
  {
   "cell_type": "code",
   "execution_count": 76,
   "id": "b9c63530",
   "metadata": {
    "ExecuteTime": {
     "end_time": "2022-05-29T17:49:08.683464Z",
     "start_time": "2022-05-29T17:49:08.670536Z"
    }
   },
   "outputs": [
    {
     "data": {
      "text/plain": [
       "0.8624159964963047"
      ]
     },
     "execution_count": 76,
     "metadata": {},
     "output_type": "execute_result"
    }
   ],
   "source": [
    "# qual o score do melhor modelo\n",
    "grid_rf.best_score_"
   ]
  },
  {
   "cell_type": "code",
   "execution_count": 77,
   "id": "4d2e57b0",
   "metadata": {
    "ExecuteTime": {
     "end_time": "2022-05-29T17:49:14.598984Z",
     "start_time": "2022-05-29T17:49:14.392119Z"
    }
   },
   "outputs": [
    {
     "data": {
      "text/plain": [
       "0.8573607547363677"
      ]
     },
     "execution_count": 77,
     "metadata": {},
     "output_type": "execute_result"
    }
   ],
   "source": [
    "y_val = target_encod.transform(y_val)\n",
    "grid_rf.score(X_val,y_val)"
   ]
  },
  {
   "cell_type": "code",
   "execution_count": 108,
   "id": "560bbaf5",
   "metadata": {
    "ExecuteTime": {
     "end_time": "2022-05-29T17:50:04.823351Z",
     "start_time": "2022-05-29T17:50:04.566019Z"
    }
   },
   "outputs": [
    {
     "data": {
      "text/plain": [
       "0.9481439501275148"
      ]
     },
     "execution_count": 108,
     "metadata": {},
     "output_type": "execute_result"
    }
   ],
   "source": [
    "y_val = target_encod.transform(y_val)\n",
    "pipeline.score(X_val, y_val)\n",
    "#1"
   ]
  },
  {
   "cell_type": "markdown",
   "id": "00fbdfe4",
   "metadata": {},
   "source": [
    "# Documento da Submissão"
   ]
  },
  {
   "cell_type": "code",
   "execution_count": 78,
   "id": "23c4a913",
   "metadata": {
    "ExecuteTime": {
     "end_time": "2022-05-29T17:50:16.710758Z",
     "start_time": "2022-05-29T17:50:16.586461Z"
    }
   },
   "outputs": [
    {
     "data": {
      "text/html": [
       "<div>\n",
       "<style scoped>\n",
       "    .dataframe tbody tr th:only-of-type {\n",
       "        vertical-align: middle;\n",
       "    }\n",
       "\n",
       "    .dataframe tbody tr th {\n",
       "        vertical-align: top;\n",
       "    }\n",
       "\n",
       "    .dataframe thead th {\n",
       "        text-align: right;\n",
       "    }\n",
       "</style>\n",
       "<table border=\"1\" class=\"dataframe\">\n",
       "  <thead>\n",
       "    <tr style=\"text-align: right;\">\n",
       "      <th></th>\n",
       "      <th>country</th>\n",
       "      <th>year</th>\n",
       "      <th>location_type</th>\n",
       "      <th>cellphone_access</th>\n",
       "      <th>household_size</th>\n",
       "      <th>age_of_respondent</th>\n",
       "      <th>gender_of_respondent</th>\n",
       "      <th>relationship_with_head</th>\n",
       "      <th>marital_status</th>\n",
       "      <th>education_level</th>\n",
       "      <th>job_type</th>\n",
       "    </tr>\n",
       "  </thead>\n",
       "  <tbody>\n",
       "    <tr>\n",
       "      <th>0</th>\n",
       "      <td>Rwanda</td>\n",
       "      <td>2016</td>\n",
       "      <td>Rural</td>\n",
       "      <td>Yes</td>\n",
       "      <td>7</td>\n",
       "      <td>40</td>\n",
       "      <td>Male</td>\n",
       "      <td>Head of Household</td>\n",
       "      <td>Married/Living together</td>\n",
       "      <td>No formal education</td>\n",
       "      <td>Informally employed</td>\n",
       "    </tr>\n",
       "    <tr>\n",
       "      <th>1</th>\n",
       "      <td>Rwanda</td>\n",
       "      <td>2016</td>\n",
       "      <td>Rural</td>\n",
       "      <td>Yes</td>\n",
       "      <td>3</td>\n",
       "      <td>24</td>\n",
       "      <td>Male</td>\n",
       "      <td>Child</td>\n",
       "      <td>Single/Never Married</td>\n",
       "      <td>Secondary education</td>\n",
       "      <td>Farming and Fishing</td>\n",
       "    </tr>\n",
       "    <tr>\n",
       "      <th>2</th>\n",
       "      <td>Rwanda</td>\n",
       "      <td>2016</td>\n",
       "      <td>Urban</td>\n",
       "      <td>Yes</td>\n",
       "      <td>3</td>\n",
       "      <td>25</td>\n",
       "      <td>Female</td>\n",
       "      <td>Spouse</td>\n",
       "      <td>Married/Living together</td>\n",
       "      <td>Primary education</td>\n",
       "      <td>Farming and Fishing</td>\n",
       "    </tr>\n",
       "    <tr>\n",
       "      <th>3</th>\n",
       "      <td>Tanzania</td>\n",
       "      <td>2017</td>\n",
       "      <td>Urban</td>\n",
       "      <td>Yes</td>\n",
       "      <td>1</td>\n",
       "      <td>35</td>\n",
       "      <td>Female</td>\n",
       "      <td>Head of Household</td>\n",
       "      <td>Married/Living together</td>\n",
       "      <td>Primary education</td>\n",
       "      <td>Self employed</td>\n",
       "    </tr>\n",
       "    <tr>\n",
       "      <th>4</th>\n",
       "      <td>Rwanda</td>\n",
       "      <td>2016</td>\n",
       "      <td>Rural</td>\n",
       "      <td>Yes</td>\n",
       "      <td>3</td>\n",
       "      <td>60</td>\n",
       "      <td>Male</td>\n",
       "      <td>Head of Household</td>\n",
       "      <td>Married/Living together</td>\n",
       "      <td>Primary education</td>\n",
       "      <td>Farming and Fishing</td>\n",
       "    </tr>\n",
       "  </tbody>\n",
       "</table>\n",
       "</div>"
      ],
      "text/plain": [
       "    country  year location_type cellphone_access  household_size  \\\n",
       "0    Rwanda  2016         Rural              Yes               7   \n",
       "1    Rwanda  2016         Rural              Yes               3   \n",
       "2    Rwanda  2016         Urban              Yes               3   \n",
       "3  Tanzania  2017         Urban              Yes               1   \n",
       "4    Rwanda  2016         Rural              Yes               3   \n",
       "\n",
       "   age_of_respondent gender_of_respondent relationship_with_head  \\\n",
       "0                 40                 Male      Head of Household   \n",
       "1                 24                 Male                  Child   \n",
       "2                 25               Female                 Spouse   \n",
       "3                 35               Female      Head of Household   \n",
       "4                 60                 Male      Head of Household   \n",
       "\n",
       "            marital_status      education_level             job_type  \n",
       "0  Married/Living together  No formal education  Informally employed  \n",
       "1     Single/Never Married  Secondary education  Farming and Fishing  \n",
       "2  Married/Living together    Primary education  Farming and Fishing  \n",
       "3  Married/Living together    Primary education        Self employed  \n",
       "4  Married/Living together    Primary education  Farming and Fishing  "
      ]
     },
     "execution_count": 78,
     "metadata": {},
     "output_type": "execute_result"
    }
   ],
   "source": [
    "teste = pd.read_csv('/home/jeffsmedines/repos/HACK/test.csv')\n",
    "\n",
    "# drop same columns as the train dataset\n",
    "teste_clean = teste.drop(['uniqueid', 'uid'], axis=1)\n",
    "# teste_clean_dropped = teste.drop(['uniqueid', 'uid','country', 'relationship_with_head','location_type'], axis=1)\n",
    "\n",
    "teste_clean.head()"
   ]
  },
  {
   "cell_type": "code",
   "execution_count": 79,
   "id": "52ddbc82",
   "metadata": {
    "ExecuteTime": {
     "end_time": "2022-05-29T17:50:21.586608Z",
     "start_time": "2022-05-29T17:50:21.059205Z"
    }
   },
   "outputs": [],
   "source": [
    "bank_account = grid_rf.predict(teste_clean)\n",
    "\n",
    "submission = pd.DataFrame(bank_account, columns=['bank_account'])\n",
    "\n",
    "submission_words = submission.bank_account.apply(lambda x: 'Yes' if x==1 else 'No' )\n",
    "\n",
    "submission2 = pd.concat([teste.uid, submission_words],axis=1)"
   ]
  },
  {
   "cell_type": "code",
   "execution_count": 80,
   "id": "05ae6e6c",
   "metadata": {
    "ExecuteTime": {
     "end_time": "2022-05-29T17:50:23.591268Z",
     "start_time": "2022-05-29T17:50:23.566403Z"
    }
   },
   "outputs": [
    {
     "data": {
      "text/html": [
       "<div>\n",
       "<style scoped>\n",
       "    .dataframe tbody tr th:only-of-type {\n",
       "        vertical-align: middle;\n",
       "    }\n",
       "\n",
       "    .dataframe tbody tr th {\n",
       "        vertical-align: top;\n",
       "    }\n",
       "\n",
       "    .dataframe thead th {\n",
       "        text-align: right;\n",
       "    }\n",
       "</style>\n",
       "<table border=\"1\" class=\"dataframe\">\n",
       "  <thead>\n",
       "    <tr style=\"text-align: right;\">\n",
       "      <th></th>\n",
       "      <th>uid</th>\n",
       "      <th>bank_account</th>\n",
       "    </tr>\n",
       "  </thead>\n",
       "  <tbody>\n",
       "    <tr>\n",
       "      <th>0</th>\n",
       "      <td>Rwanda_uniqueid_625</td>\n",
       "      <td>No</td>\n",
       "    </tr>\n",
       "    <tr>\n",
       "      <th>1</th>\n",
       "      <td>Rwanda_uniqueid_1561</td>\n",
       "      <td>No</td>\n",
       "    </tr>\n",
       "    <tr>\n",
       "      <th>2</th>\n",
       "      <td>Rwanda_uniqueid_4806</td>\n",
       "      <td>No</td>\n",
       "    </tr>\n",
       "    <tr>\n",
       "      <th>3</th>\n",
       "      <td>Tanzania_uniqueid_4902</td>\n",
       "      <td>No</td>\n",
       "    </tr>\n",
       "    <tr>\n",
       "      <th>4</th>\n",
       "      <td>Rwanda_uniqueid_980</td>\n",
       "      <td>No</td>\n",
       "    </tr>\n",
       "  </tbody>\n",
       "</table>\n",
       "</div>"
      ],
      "text/plain": [
       "                      uid bank_account\n",
       "0     Rwanda_uniqueid_625           No\n",
       "1    Rwanda_uniqueid_1561           No\n",
       "2    Rwanda_uniqueid_4806           No\n",
       "3  Tanzania_uniqueid_4902           No\n",
       "4     Rwanda_uniqueid_980           No"
      ]
     },
     "execution_count": 80,
     "metadata": {},
     "output_type": "execute_result"
    }
   ],
   "source": [
    "submission2.head()"
   ]
  },
  {
   "cell_type": "code",
   "execution_count": 81,
   "id": "5e78b0aa",
   "metadata": {
    "ExecuteTime": {
     "end_time": "2022-05-29T17:50:27.244517Z",
     "start_time": "2022-05-29T17:50:26.894231Z"
    }
   },
   "outputs": [],
   "source": [
    "submission2.to_csv('/home/jeffsmedines/repos/HACK/submission10.csv',index=False) #gridsearch"
   ]
  },
  {
   "cell_type": "code",
   "execution_count": null,
   "id": "a50b22d7",
   "metadata": {},
   "outputs": [],
   "source": []
  }
 ],
 "metadata": {
  "kernelspec": {
   "display_name": "hackday",
   "language": "python",
   "name": "hackday"
  },
  "language_info": {
   "codemirror_mode": {
    "name": "ipython",
    "version": 3
   },
   "file_extension": ".py",
   "mimetype": "text/x-python",
   "name": "python",
   "nbconvert_exporter": "python",
   "pygments_lexer": "ipython3",
   "version": "3.8.10"
  },
  "toc": {
   "base_numbering": 1,
   "nav_menu": {},
   "number_sections": true,
   "sideBar": true,
   "skip_h1_title": false,
   "title_cell": "Table of Contents",
   "title_sidebar": "Contents",
   "toc_cell": false,
   "toc_position": {},
   "toc_section_display": true,
   "toc_window_display": false
  }
 },
 "nbformat": 4,
 "nbformat_minor": 5
}
